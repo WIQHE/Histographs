{
 "cells": [
  {
   "cell_type": "code",
   "execution_count": null,
   "metadata": {},
   "outputs": [],
   "source": [
    "# ! pip install torch torchvision torchaudio --index-url https://download.pytorch.org/whl/cu118 && \\\n",
    "# ! pip install torch_scatter torch_sparse torch_cluster torch_spline_conv -f https://data.pyg.org/whl/torch-2.0.0+cu118.html && \\\n",
    "# ! pip install torch_geometric tiatoolbox opencv-python scikit-image matplotlib networkx seaborn numpy pandas"
   ]
  },
  {
   "cell_type": "code",
   "execution_count": null,
   "metadata": {},
   "outputs": [],
   "source": [
    "import os\n",
    "import json\n",
    "import cv2\n",
    "import numpy as np\n",
    "import pandas as pd\n",
    "import torch\n",
    "import torch.nn as nn\n",
    "import torch.nn.functional as F\n",
    "from torch_geometric.nn import GATv2Conv, global_mean_pool\n",
    "from torch_geometric.data import Data\n",
    "import torchvision.models as models\n",
    "from skimage import measure\n",
    "import networkx as nx\n",
    "import matplotlib.pyplot as plt\n",
    "import seaborn as sns\n",
    "from scipy.spatial import distance\n",
    "import shutil\n",
    "import tiatoolbox.models\n",
    "from tiatoolbox.models import NucleusInstanceSegmentor"
   ]
  },
  {
   "cell_type": "code",
   "execution_count": null,
   "metadata": {},
   "outputs": [],
   "source": [
    "\n",
    "# See all available names in the models module\n",
    "print(dir(tiatoolbox.models))"
   ]
  },
  {
   "cell_type": "code",
   "execution_count": null,
   "metadata": {},
   "outputs": [],
   "source": [
    "\n",
    "# def segment_nuclei(patch_dir=\"./patches/\", output_dir=\"./results/\"):\n",
    "    \n",
    "# segment_nuclei()"
   ]
  },
  {
   "cell_type": "code",
   "execution_count": null,
   "metadata": {},
   "outputs": [],
   "source": [
    "import multiprocessing\n",
    "\n",
    "# Get total number of available CPU cores\n",
    "num_cpu_cores = multiprocessing.cpu_count()\n",
    "print(f\"Total CPU cores available: {num_cpu_cores}\")\n"
   ]
  },
  {
   "cell_type": "code",
   "execution_count": null,
   "metadata": {},
   "outputs": [],
   "source": [
    "segmentor = NucleusInstanceSegmentor(\n",
    "        pretrained_model=\"hovernet_fast-pannuke\",  # Pretrained\n",
    "        num_loader_workers=14,  # Adjust based on your system\n",
    "        batch_size=1\n",
    "    )\n"
   ]
  },
  {
   "cell_type": "code",
   "execution_count": null,
   "metadata": {},
   "outputs": [],
   "source": [
    "! pip install natsort"
   ]
  },
  {
   "cell_type": "code",
   "execution_count": null,
   "metadata": {},
   "outputs": [],
   "source": [
    "import torch\n",
    "\n",
    "# Check if CUDA is available\n",
    "print(\"CUDA Available:\", torch.cuda.is_available())\n",
    "\n",
    "# Number of GPUs\n",
    "print(\"Number of GPUs:\", torch.cuda.device_count())\n",
    "\n",
    "# GPU Name (if available)\n",
    "if torch.cuda.is_available():\n",
    "    print(\"GPU Name:\", torch.cuda.get_device_name(0))\n"
   ]
  },
  {
   "cell_type": "markdown",
   "metadata": {},
   "source": []
  },
  {
   "cell_type": "code",
   "execution_count": null,
   "metadata": {},
   "outputs": [],
   "source": [
    "import os\n",
    "from glob import glob\n",
    "from natsort import natsorted\n",
    "\n",
    "# Set base directories\n",
    "input_base = \"./dataset/data/Photos/\"\n",
    "output_base = \"./n_detected_pannuke/\"\n",
    "\n",
    "\n",
    "# List subfolders in dataset directory\n",
    "subfolders = [f for f in os.listdir(input_base)\n",
    "              if os.path.isdir(os.path.join(input_base, f))]\n",
    "\n",
    "for folder in subfolders:\n",
    "    input_dir = os.path.join(input_base, folder)\n",
    "    output_dir = os.path.join(output_base, folder)\n",
    "    # os.makedirs(output_dir, exist_ok=True)\n",
    "\n",
    "    # Get all .tif files in the current subfolder\n",
    "    tif_files = natsorted(glob(os.path.join(input_dir, \"*.tif\")))\n",
    "    print(tif_files)\n",
    "    print(f\"📁 Running on {folder} — {len(tif_files)} files\")\n",
    "\n",
    "    try:\n",
    "        output = segmentor.predict(\n",
    "            tif_files,\n",
    "            save_dir=output_dir,\n",
    "            mode=\"tile\",\n",
    "            device=\"cuda\",\n",
    "            resolution=0.42,\n",
    "            units=\"micron\",\n",
    "            crash_on_exception=True\n",
    "        )\n",
    "        print(f\"✅ Done with {folder}\")\n",
    "    except Exception as e:\n",
    "        \n",
    "        print(f\"❌ Error processing {folder}: {e}\")\n"
   ]
  },
  {
   "cell_type": "code",
   "execution_count": null,
   "metadata": {},
   "outputs": [],
   "source": [
    "! pip install joblib\n"
   ]
  },
  {
   "cell_type": "code",
   "execution_count": null,
   "metadata": {},
   "outputs": [],
   "source": [
    "import os\n",
    "import random\n",
    "import joblib\n",
    "import numpy as np\n",
    "import matplotlib.pyplot as plt\n",
    "from glob import glob\n",
    "from PIL import Image\n",
    "from natsort import natsorted\n",
    "\n",
    "# Define color map for nucleus types\n",
    "type_colors = {\n",
    "    0: 'blue',\n",
    "    1: 'yellow',\n",
    "    2: 'red',\n",
    "    3: 'black',\n",
    "    4: 'green',\n",
    "    5: 'aqua'\n",
    "}\n",
    "def plot_nuclei_centroids_and_boxes_by_type(image_folder, dat_folder, num_images=5):\n",
    "    image_paths = natsorted(glob(os.path.join(image_folder, \"*.tif\")))\n",
    "    selected_images = random.sample(image_paths, min(num_images, len(image_paths)))\n",
    "    \n",
    "    for image_path in selected_images:\n",
    "        filename = os.path.splitext(os.path.basename(image_path))[0]\n",
    "        idx = int(filename[-2:])\n",
    "        dat_path = os.path.join(dat_folder, f\"{idx-1}.dat\")\n",
    "\n",
    "        if not os.path.exists(dat_path):\n",
    "            print(f\"⚠️  DAT file not found for {filename}, skipping.\")\n",
    "            continue\n",
    "\n",
    "        image = Image.open(image_path).convert(\"RGB\")\n",
    "        nuclei_data = joblib.load(dat_path)\n",
    "\n",
    "        # ---------- Plot 1: Centroids ----------\n",
    "        fig1, ax1 = plt.subplots(figsize=(10, 10))\n",
    "        ax1.imshow(image)\n",
    "\n",
    "        for nucleus in nuclei_data.values():\n",
    "            if(nucleus['type']):\n",
    "                x, y = nucleus['centroid']\n",
    "                # print(nucleus)\n",
    "                nucleus_type = nucleus['type']\n",
    "                color = type_colors.get(nucleus_type, 'white')\n",
    "                ax1.plot(x, y, 'o', color=color, markersize=4)\n",
    "\n",
    "        ax1.set_title(f\"Centroids by Type: {filename}\")\n",
    "        ax1.axis(\"off\")\n",
    "\n",
    "        # ---------- Plot 2: Bounding Boxes ----------\n",
    "        fig2, ax2 = plt.subplots(figsize=(10, 10))\n",
    "        ax2.imshow(image)\n",
    "\n",
    "        for nucleus in nuclei_data.values():\n",
    "            if nucleus['type']:\n",
    "                contour = np.array(nucleus[\"contour\"])\n",
    "                nucleus_type = nucleus[\"type\"]\n",
    "                color = type_colors.get(nucleus_type, 'white')\n",
    "\n",
    "                min_x, min_y = np.min(contour, axis=0)\n",
    "                max_x, max_y = np.max(contour, axis=0)\n",
    "                width, height = max_x - min_x, max_y - min_y\n",
    "                rect = plt.Rectangle((min_x, min_y), width, height,\n",
    "                                    edgecolor=color, facecolor='none', linewidth=1.5)\n",
    "                ax2.add_patch(rect)\n",
    "            else : continue  \n",
    "\n",
    "        ax2.set_title(f\"Bounding Boxes by Type: {filename}\")\n",
    "        ax2.axis(\"off\")\n",
    "\n",
    "        plt.show()\n",
    "\n",
    "# Example usage\n",
    "subtype = \"InSitu\"\n",
    "image_folder = f\"./dataset/data/Photos/{subtype}/\"\n",
    "dat_folder = f\"./n_detected_pannuke/{subtype}/\"\n",
    "plot_nuclei_centroids_and_boxes_by_type(image_folder, dat_folder, num_images=5)\n",
    "\n",
    "subtype = \"Invasive\"\n",
    "image_folder = f\"./dataset/{subtype}/\"\n",
    "dat_folder = f\"./n_detected_pannuke/{subtype}/\"\n",
    "\n",
    "plot_nuclei_centroids_and_boxes_by_type(image_folder, dat_folder, num_images=5)"
   ]
  }
 ],
 "metadata": {
  "kernelspec": {
   "display_name": "histographs",
   "language": "python",
   "name": "python3"
  },
  "language_info": {
   "codemirror_mode": {
    "name": "ipython",
    "version": 3
   },
   "file_extension": ".py",
   "mimetype": "text/x-python",
   "name": "python",
   "nbconvert_exporter": "python",
   "pygments_lexer": "ipython3",
   "version": "3.10.16"
  }
 },
 "nbformat": 4,
 "nbformat_minor": 2
}
